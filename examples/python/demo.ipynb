{
 "cells": [
  {
   "cell_type": "markdown",
   "metadata": {},
   "source": [
    "# Demo for using `psmilu4py` #\n",
    "In this example, we show how to use `psmilu4py` MILU preconditioner coupling with native GMRES solver from `scipy` package. The example is from a 2D poisson equation on unit disk with quadratic FEM."
   ]
  },
  {
   "cell_type": "code",
   "execution_count": 1,
   "metadata": {},
   "outputs": [],
   "source": [
    "try:\n",
    "    from scipy.sparse.linalg import gmres\n",
    "except ImportError:\n",
    "    print('You need to have scipy installed!')\n",
    "    raise\n",
    "from psmilu4py import *\n",
    "from psmilu4py.scipy import *\n",
    "import numpy as np"
   ]
  },
  {
   "cell_type": "markdown",
   "metadata": {},
   "source": [
    "The matrix is stored by the PSMILU native binary format that is leading symmetric block aware. It's worht noting that, unlike typical FEM, our test matrix was assembled in a way that all Dirichlet nodes are defered and not been eliminated. Therefore, we ended up with an PS system."
   ]
  },
  {
   "cell_type": "code",
   "execution_count": 2,
   "metadata": {},
   "outputs": [],
   "source": [
    "# load matrix and leading block size m\n",
    "A, m = read_native_psmilu('../demo_inputs/A.psmilu')"
   ]
  },
  {
   "cell_type": "code",
   "execution_count": 3,
   "metadata": {},
   "outputs": [
    {
     "name": "stdout",
     "output_type": "stream",
     "text": [
      "A's type is  <class 'scipy.sparse.csr.csr_matrix'> .\n",
      "leading symmetric block  387 .\n",
      "size(A)= (2955, 2955)\n"
     ]
    }
   ],
   "source": [
    "# A is scipy.sparse.csr_matrix\n",
    "print('A\\'s type is ', type(A), '.\\nleading symmetric block ', m, '.\\nsize(A)=', A.shape)"
   ]
  },
  {
   "cell_type": "markdown",
   "metadata": {},
   "source": [
    "The rhs vector can be directly loaded from `numpy` ASCII routine"
   ]
  },
  {
   "cell_type": "code",
   "execution_count": 4,
   "metadata": {},
   "outputs": [],
   "source": [
    "b = np.loadtxt('../demo_inputs/b.txt')"
   ]
  },
  {
   "cell_type": "code",
   "execution_count": 5,
   "metadata": {},
   "outputs": [],
   "source": [
    "assert A.shape[0] == len(b)"
   ]
  },
  {
   "cell_type": "markdown",
   "metadata": {},
   "source": [
    "Now, we will create the PSMILU object for scipy, i.e. `ScipyPSMILU`. This object is a child of `LinearOperator`, which can be used as the preconditioner $\\boldsymbol{M}^{-1}$."
   ]
  },
  {
   "cell_type": "code",
   "execution_count": 6,
   "metadata": {},
   "outputs": [
    {
     "name": "stdout",
     "output_type": "stream",
     "text": [
      "\n",
      "=======================================================================\n",
      "|    Pre-dominantly Symmetric Multi-level Incomplete LU (PS-MILU)     |\n",
      "|                                                                     |\n",
      "| PSMILU is a package for computing multi-level incomplete LU factor- |\n",
      "| ization with optimal time complexity. PSMILU is the first software  |\n",
      "| package to utilize the pre-dominantly symmetric systems, which occ- |\n",
      "| ur quite often but were not precisely defined and appreciated.      |\n",
      "|                                                                     |\n",
      "-----------------------------------------------------------------------\n",
      "\n",
      " Package information:\n",
      "\n",
      "\t\tCopyright (C) The PSMILU AUTHORS\n",
      "\t\tVersion: 0.0.0\n",
      "\t\tBuilt on: 10:33:27, Jun 13 2019\n",
      "\n",
      "=======================================================================\n",
      "\n",
      "Options (control parameters) are:\n",
      "\n",
      "tau_L                         0.001000\n",
      "tau_U                         0.001000\n",
      "tau_d                         3.000000\n",
      "tau_kappa                     3.000000\n",
      "alpha_L                       8\n",
      "alpha_U                       8\n",
      "rho                           0.500000\n",
      "c_d                           10.000000\n",
      "c_h                           2.000000\n",
      "N                             -1\n",
      "verbose                       info\n",
      "rf_par                        1\n",
      "reorder                       Auto\n",
      "saddle                        1\n",
      "\n",
      "perform input matrix validity checking\n",
      "\n",
      "enter level 1 (symmetric).\n",
      "\n",
      "performing preprocessing with leading block size 387...\n",
      "preprocessing done with leading block size 387...\n",
      "time: 0.000440161s\n",
      "preparing data variables...\n",
      "start Crout update...\n",
      "finish Crout update...\n",
      "\ttotal deferrals=40\n",
      "\tleading block size in=387\n",
      "\tleading block size out=347\n",
      "\tdiff=40\n",
      "\tdiag deferrals=8\n",
      "\tinv-norm deferrals=32\n",
      "\tdrop ut=38539\n",
      "\tspace drop ut=14757\n",
      "\tdrop l=0\n",
      "\tspace drop l=0\n",
      "\tmin |kappa_u|=1\n",
      "\tmax |kappa_u|=2.99876\n",
      "\tmin |kappa_l|=2.79639e-312\n",
      "\tmax |kappa_l|=2.99876\n",
      "time: 0.00532768s\n",
      "computing Schur complement and assembling Prec...\n",
      "applying dropping on L_E and U_F with alpha_{L,U}=8,8...\n",
      "nnz(L_E)=1476/1450, nnz(U_F)=57061/45057...\n",
      "nnz(S_C)=33489, nnz(L/L_B)=3041/1565, nnz(U/U_B)=58626/1565\n",
      "dense_thres{1,2}=108480/1000...\n",
      "time: 0.00471587s\n",
      "\n",
      "finish level 1.\n",
      "\n",
      "enter level 2 (asymmetric).\n",
      "\n",
      "performing preprocessing with leading block size 2608...\n",
      "preprocessing done with leading block size 2608...\n",
      "time: 0.00176254s\n",
      "preparing data variables...\n",
      "start Crout update...\n",
      "finish Crout update...\n",
      "\ttotal deferrals=20\n",
      "\tleading block size in=2608\n",
      "\tleading block size out=2588\n",
      "\tdiff=20\n",
      "\tdiag deferrals=1\n",
      "\tinv-norm deferrals=19\n",
      "\tdrop ut=79\n",
      "\tspace drop ut=0\n",
      "\tdrop l=7829\n",
      "\tspace drop l=0\n",
      "\tmin |kappa_u|=1\n",
      "\tmax |kappa_u|=1.71222\n",
      "\tmin |kappa_l|=1\n",
      "\tmax |kappa_l|=1.87686\n",
      "time: 0.00129254s\n",
      "computing Schur complement and assembling Prec...\n",
      "applying dropping on L_E and U_F with alpha_{L,U}=8,8...\n",
      "nnz(L_E)=11234/4256, nnz(U_F)=202/202...\n",
      "nnz(S_C)=311, nnz(L/L_B)=22737/11503, nnz(U/U_B)=278/76\n",
      "dense_thres{1,2}=5424/1000...\n",
      "converted Schur complement (S) to dense for last level...\n",
      "successfully factorized the dense component...\n",
      "time: 0.000796246s\n",
      "\n",
      "finish level 2.\n",
      "\n",
      "input nnz(A)=12203, nnz(precs)=18044, ratio=1.47865\n",
      "\n",
      "multilevel precs building time (overall) is 0.0151953s\n"
     ]
    }
   ],
   "source": [
    "M = ScipyPSMILU(A.shape)\n",
    "M.factorize(A, m=m)  # factorize A with leading symmetric block size m"
   ]
  },
  {
   "cell_type": "markdown",
   "metadata": {},
   "source": [
    "Now, we can solve the for $\\boldsymbol{x}=\\boldsymbol{A}^{-1}\\boldsymbol{b}$ with our MILU preconditioner M.\n",
    "**Be aware that scipy uses left preconditioner, which is not optimal for PSMILU package**."
   ]
  },
  {
   "cell_type": "code",
   "execution_count": 7,
   "metadata": {},
   "outputs": [],
   "source": [
    "# Anyone, seriously, knows a more elegant way to report number of iterations??\n",
    "it = 0\n",
    "def report_iters(_):\n",
    "    global it\n",
    "    it += 1\n",
    "# solve, should be intuitive\n",
    "x, flag = gmres(A, b, tol=1e-6, M=M, callback=report_iters)"
   ]
  },
  {
   "cell_type": "code",
   "execution_count": 8,
   "metadata": {},
   "outputs": [],
   "source": [
    "assert flag==0, 'failed to solve for x'"
   ]
  },
  {
   "cell_type": "code",
   "execution_count": 9,
   "metadata": {},
   "outputs": [
    {
     "name": "stdout",
     "output_type": "stream",
     "text": [
      "GMRES with left MILU took  4  iterations to converge..\n"
     ]
    }
   ],
   "source": [
    "print('GMRES with left MILU took ', it, ' iterations to converge..')"
   ]
  },
  {
   "cell_type": "code",
   "execution_count": 10,
   "metadata": {},
   "outputs": [
    {
     "name": "stdout",
     "output_type": "stream",
     "text": [
      "relative error is  5.589219981464121e-08\n"
     ]
    }
   ],
   "source": [
    "# post processing\n",
    "x_ref = np.loadtxt('../demo_inputs/ref_x.txt')\n",
    "err = x-x_ref\n",
    "print('relative error is ', np.linalg.norm(err)/np.linalg.norm(x_ref))"
   ]
  }
 ],
 "metadata": {
  "kernelspec": {
   "display_name": "Python 3",
   "language": "python",
   "name": "python3"
  },
  "language_info": {
   "codemirror_mode": {
    "name": "ipython",
    "version": 3
   },
   "file_extension": ".py",
   "mimetype": "text/x-python",
   "name": "python",
   "nbconvert_exporter": "python",
   "pygments_lexer": "ipython3",
   "version": "3.6.8"
  },
  "latex_envs": {
   "LaTeX_envs_menu_present": true,
   "autoclose": false,
   "autocomplete": true,
   "bibliofile": "biblio.bib",
   "cite_by": "apalike",
   "current_citInitial": 1,
   "eqLabelWithNumbers": true,
   "eqNumInitial": 1,
   "hotkeys": {
    "equation": "Ctrl-E",
    "itemize": "Ctrl-I"
   },
   "labels_anchors": false,
   "latex_user_defs": false,
   "report_style_numbering": false,
   "user_envs_cfg": false
  }
 },
 "nbformat": 4,
 "nbformat_minor": 2
}
