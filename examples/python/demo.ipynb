{
 "cells": [
  {
   "cell_type": "markdown",
   "metadata": {},
   "source": [
    "# Demo for using `psmilu4py` #\n",
    "In this example, we show how to use `psmilu4py` MILU preconditioner coupling with native GMRES solver from `scipy` package. The example is from a 2D poisson equation on unit disk with quadratic FEM."
   ]
  },
  {
   "cell_type": "code",
   "execution_count": 1,
   "metadata": {},
   "outputs": [],
   "source": [
    "try:\n",
    "    from scipy.sparse.linalg import gmres\n",
    "except ImportError:\n",
    "    print('You need to have scipy installed!')\n",
    "    raise\n",
    "from psmilu4py import *\n",
    "from psmilu4py.scipy import *\n",
    "import numpy as np"
   ]
  },
  {
   "cell_type": "markdown",
   "metadata": {},
   "source": [
    "The matrix is stored by the PSMILU native binary format that is leading symmetric block aware. It's worht noting that, unlike typical FEM, our test matrix was assembled in a way that all Dirichlet nodes are defered and not been eliminated. Therefore, we ended up with an PS system."
   ]
  },
  {
   "cell_type": "code",
   "execution_count": 2,
   "metadata": {},
   "outputs": [],
   "source": [
    "# load matrix and leading block size m\n",
    "A, m = read_native_psmilu('../demo_inputs/A.psmilu')"
   ]
  },
  {
   "cell_type": "code",
   "execution_count": 3,
   "metadata": {},
   "outputs": [
    {
     "name": "stdout",
     "output_type": "stream",
     "text": [
      "A's type is  <class 'scipy.sparse.csr.csr_matrix'> .\n",
      "leading symmetric block  387 .\n",
      "size(A)= (2955, 2955)\n"
     ]
    }
   ],
   "source": [
    "# A is scipy.sparse.csr_matrix\n",
    "print('A\\'s type is ', type(A), '.\\nleading symmetric block ', m, '.\\nsize(A)=', A.shape)"
   ]
  },
  {
   "cell_type": "markdown",
   "metadata": {},
   "source": [
    "The rhs vector can be directly loaded from `numpy` ASCII routine"
   ]
  },
  {
   "cell_type": "code",
   "execution_count": 4,
   "metadata": {},
   "outputs": [],
   "source": [
    "b = np.loadtxt('../demo_inputs/b.txt')"
   ]
  },
  {
   "cell_type": "code",
   "execution_count": 5,
   "metadata": {},
   "outputs": [],
   "source": [
    "assert A.shape[0] == len(b)"
   ]
  },
  {
   "cell_type": "markdown",
   "metadata": {},
   "source": [
    "Now, we will create the PSMILU object for scipy, i.e. `ScipyPSMILU`. This object is a child of `LinearOperator`, which can be used as the preconditioner $\\boldsymbol{M}^{-1}$."
   ]
  },
  {
   "cell_type": "code",
   "execution_count": 6,
   "metadata": {},
   "outputs": [
    {
     "name": "stdout",
     "output_type": "stream",
     "text": [
      "\n",
      "=======================================================================\n",
      "|    Pre-dominantly Symmetric Multi-level Incomplete LU (PS-MILU)     |\n",
      "|                                                                     |\n",
      "| PSMILU is a package for computing multi-level incomplete LU factor- |\n",
      "| ization with optimal time complexity. PSMILU is the first software  |\n",
      "| package to utilize the pre-dominantly symmetric systems, which occ- |\n",
      "| ur quite often but were not precisely defined and appreciated.      |\n",
      "|                                                                     |\n",
      "-----------------------------------------------------------------------\n",
      "\n",
      " Package information:\n",
      "\n",
      "\t\tCopyright (C) The PSMILU AUTHORS\n",
      "\t\tVersion: 0.0.0\n",
      "\t\tBuilt on: 14:12:47, Mar 18 2019\n",
      "\n",
      "=======================================================================\n",
      "\n",
      "Options (control parameters) are:\n",
      "\n",
      "tau_L                         0.010000\n",
      "tau_U                         0.010000\n",
      "tau_d                         10.000000\n",
      "tau_kappa                     100.000000\n",
      "alpha_L                       4\n",
      "alpha_U                       4\n",
      "rho                           0.250000\n",
      "c_d                           1.000000\n",
      "c_h                           2.000000\n",
      "N                             -1\n",
      "verbose                       1\n",
      "\n",
      "perform input matrix validity checking\n",
      "\n",
      "enter level 1.\n",
      "\n",
      "performing preprocessing...\n",
      "time: 0.000443066s\n",
      "preparing data variables...\n",
      "start Crout update...\n",
      "finish Crout update...\n",
      "\ttotal interchanges=2\n",
      "\tleading block size in=387\n",
      "\tleading block size out=385\n",
      "\tdiff=2\n",
      "time: 0.00234641s\n",
      "computing Schur complement (C)...\n",
      "nnz(S_C)=3449...\n",
      "time: 0.000357987s\n",
      "\n",
      "finish level 1.\n",
      "\n",
      "enter level 2.\n",
      "\n",
      "performing preprocessing...\n",
      "time: 0.000614997s\n",
      "preparing data variables...\n",
      "start Crout update...\n",
      "finish Crout update...\n",
      "\ttotal interchanges=0\n",
      "\tleading block size in=2570\n",
      "\tleading block size out=2570\n",
      "\tdiff=0\n",
      "time: 0.000291463s\n",
      "computing Schur complement (C)...\n",
      "nnz(S_C)=0...\n",
      "converted Schur complement (C) to dense for last level...\n",
      "time: 6.7195e-05s\n",
      "\n",
      "finish level 2.\n",
      "\n",
      "input nnz(A)=12203, nnz(precs)=6887\n",
      "\n",
      "multilevel precs building time (overall) is 0.0045846s\n"
     ]
    }
   ],
   "source": [
    "M = ScipyPSMILU(A.shape)\n",
    "M.factorize(A, m=m)  # factorize A with leading symmetric block size m"
   ]
  },
  {
   "cell_type": "markdown",
   "metadata": {},
   "source": [
    "Now, we can solve the for $\\boldsymbol{x}=\\boldsymbol{A}^{-1}\\boldsymbol{b}$ with our MILU preconditioner M.\n",
    "**Be aware that scipy uses left preconditioner, which is not optimal for PSMILU package**."
   ]
  },
  {
   "cell_type": "code",
   "execution_count": 7,
   "metadata": {},
   "outputs": [],
   "source": [
    "# Anyone, seriously, knows a more elegant way to report number of iterations??\n",
    "it = 0\n",
    "def report_iters(_):\n",
    "    global it\n",
    "    it += 1\n",
    "# solve, should be intuitive\n",
    "x, flag = gmres(A, b, tol=1e-6, M=M, callback=report_iters)"
   ]
  },
  {
   "cell_type": "code",
   "execution_count": 8,
   "metadata": {},
   "outputs": [],
   "source": [
    "assert flag==0, 'failed to solve for x'"
   ]
  },
  {
   "cell_type": "code",
   "execution_count": 9,
   "metadata": {},
   "outputs": [
    {
     "name": "stdout",
     "output_type": "stream",
     "text": [
      "GMRES with left MILU took  10  iterations to converge..\n"
     ]
    }
   ],
   "source": [
    "print('GMRES with left MILU took ', it, ' iterations to converge..')"
   ]
  },
  {
   "cell_type": "code",
   "execution_count": 10,
   "metadata": {},
   "outputs": [
    {
     "name": "stdout",
     "output_type": "stream",
     "text": [
      "relative error is  2.7502839845420405e-08\n"
     ]
    }
   ],
   "source": [
    "# post processing\n",
    "x_ref = np.loadtxt('../demo_inputs/ref_x.txt')\n",
    "err = x-x_ref\n",
    "print('relative error is ', np.linalg.norm(err)/np.linalg.norm(x_ref))"
   ]
  }
 ],
 "metadata": {
  "kernelspec": {
   "display_name": "Python 3",
   "language": "python",
   "name": "python3"
  },
  "language_info": {
   "codemirror_mode": {
    "name": "ipython",
    "version": 3
   },
   "file_extension": ".py",
   "mimetype": "text/x-python",
   "name": "python",
   "nbconvert_exporter": "python",
   "pygments_lexer": "ipython3",
   "version": "3.6.7"
  },
  "latex_envs": {
   "LaTeX_envs_menu_present": true,
   "autoclose": false,
   "autocomplete": true,
   "bibliofile": "biblio.bib",
   "cite_by": "apalike",
   "current_citInitial": 1,
   "eqLabelWithNumbers": true,
   "eqNumInitial": 1,
   "hotkeys": {
    "equation": "Ctrl-E",
    "itemize": "Ctrl-I"
   },
   "labels_anchors": false,
   "latex_user_defs": false,
   "report_style_numbering": false,
   "user_envs_cfg": false
  }
 },
 "nbformat": 4,
 "nbformat_minor": 2
}
